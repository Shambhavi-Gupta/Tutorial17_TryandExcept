{
  "nbformat": 4,
  "nbformat_minor": 0,
  "metadata": {
    "colab": {
      "name": "Tutorial17_Try&Except.ipynb",
      "provenance": [],
      "authorship_tag": "ABX9TyNSGQk8Ns0qnJdRZJGb6eGd",
      "include_colab_link": true
    },
    "kernelspec": {
      "name": "python3",
      "display_name": "Python 3"
    }
  },
  "cells": [
    {
      "cell_type": "markdown",
      "metadata": {
        "id": "view-in-github",
        "colab_type": "text"
      },
      "source": [
        "<a href=\"https://colab.research.google.com/github/Shambhavi-Gupta/Tutorial17_TryandExcept/blob/main/Tutorial17_Try%26Except.ipynb\" target=\"_parent\"><img src=\"https://colab.research.google.com/assets/colab-badge.svg\" alt=\"Open In Colab\"/></a>"
      ]
    },
    {
      "cell_type": "code",
      "metadata": {
        "id": "StL3GQMPRPuZ"
      },
      "source": [
        "print(\"Enter number 1 \")\r\n",
        "num1 = input()\r\n",
        "print(\"Enter number 2 \")\r\n",
        "num2 = input()\r\n",
        "try:\r\n",
        "    print(\"The sum of number is\",int(num1) + int(num2))\r\n",
        "\r\n",
        "except Exception as e:\r\n",
        "    print(e)\r\n",
        "\r\n",
        "print(\"This line is very important\")"
      ],
      "execution_count": null,
      "outputs": []
    }
  ]
}